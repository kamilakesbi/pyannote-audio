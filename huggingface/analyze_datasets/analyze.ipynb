{
 "cells": [
  {
   "cell_type": "code",
   "execution_count": 7,
   "metadata": {},
   "outputs": [],
   "source": [
    "from datasets import load_dataset\n",
    "import IPython.display as ipd"
   ]
  },
  {
   "cell_type": "code",
   "execution_count": 1,
   "metadata": {},
   "outputs": [
    {
     "data": {
      "application/vnd.jupyter.widget-view+json": {
       "model_id": "4b54c4c67a4d4befa3e0a4f76a06bb69",
       "version_major": 2,
       "version_minor": 0
      },
      "text/plain": [
       "Resolving data files:   0%|          | 0/18 [00:00<?, ?it/s]"
      ]
     },
     "metadata": {},
     "output_type": "display_data"
    },
    {
     "data": {
      "application/vnd.jupyter.widget-view+json": {
       "model_id": "6dd96b21d88a48569a43284db4474811",
       "version_major": 2,
       "version_minor": 0
      },
      "text/plain": [
       "Resolving data files:   0%|          | 0/18 [00:00<?, ?it/s]"
      ]
     },
     "metadata": {},
     "output_type": "display_data"
    }
   ],
   "source": [
    "dataset = load_dataset(\"kamilakesbi/ami_spd_nobatch_full\")"
   ]
  },
  {
   "cell_type": "markdown",
   "metadata": {},
   "source": [
    "## Analyze original dataset: "
   ]
  },
  {
   "cell_type": "code",
   "execution_count": 2,
   "metadata": {},
   "outputs": [
    {
     "name": "stdout",
     "output_type": "stream",
     "text": [
      "nb rows train set :  1632\n",
      "nb rows val set :  204\n",
      "nb rows test set :  180\n"
     ]
    }
   ],
   "source": [
    "print('nb rows train set : ', len(dataset['train']))\n",
    "print('nb rows val set : ', len(dataset['validation']))\n",
    "print('nb rows test set : ', len(dataset['test']))"
   ]
  },
  {
   "cell_type": "code",
   "execution_count": 19,
   "metadata": {},
   "outputs": [
    {
     "name": "stderr",
     "output_type": "stream",
     "text": [
      "Exception ignored from cffi callback <function SoundFile._init_virtual_io.<locals>.vio_read at 0x7f0790722200>:\n",
      "Traceback (most recent call last):\n",
      "  File \"/home/kamil/projects/pyannote-audio/env/lib/python3.10/site-packages/soundfile.py\", line 1245, in vio_read\n",
      "    buf = _ffi.buffer(ptr, count)\n",
      "KeyboardInterrupt: \n"
     ]
    }
   ],
   "source": [
    "subset = 'train'\n",
    "column_name = 'audio'\n",
    "\n",
    "for row in dataset[str(subset)][str(column_name)]: \n",
    "\n",
    "    print(row)\n",
    "    break"
   ]
  },
  {
   "cell_type": "code",
   "execution_count": 5,
   "metadata": {},
   "outputs": [],
   "source": [
    "audio = dataset['train'][0]['audio']"
   ]
  },
  {
   "cell_type": "code",
   "execution_count": 1,
   "metadata": {},
   "outputs": [],
   "source": [
    "# ipd.Audio(audio['array'],rate=audio['sampling_rate'])"
   ]
  },
  {
   "cell_type": "markdown",
   "metadata": {},
   "source": [
    "## Analyze preprocessed dataset: "
   ]
  },
  {
   "cell_type": "code",
   "execution_count": 10,
   "metadata": {},
   "outputs": [
    {
     "data": {
      "application/vnd.jupyter.widget-view+json": {
       "model_id": "6b5787e441b845cfa44144bf6b552dbe",
       "version_major": 2,
       "version_minor": 0
      },
      "text/plain": [
       "Downloading readme:   0%|          | 0.00/611 [00:00<?, ?B/s]"
      ]
     },
     "metadata": {},
     "output_type": "display_data"
    },
    {
     "data": {
      "application/vnd.jupyter.widget-view+json": {
       "model_id": "b415f890cbc5401ebd8e94ef121b4d8e",
       "version_major": 2,
       "version_minor": 0
      },
      "text/plain": [
       "Resolving data files:   0%|          | 0/70 [00:00<?, ?it/s]"
      ]
     },
     "metadata": {},
     "output_type": "display_data"
    },
    {
     "data": {
      "application/vnd.jupyter.widget-view+json": {
       "model_id": "3733af1c15174f0395646b854590a948",
       "version_major": 2,
       "version_minor": 0
      },
      "text/plain": [
       "Resolving data files:   0%|          | 0/70 [00:00<?, ?it/s]"
      ]
     },
     "metadata": {},
     "output_type": "display_data"
    },
    {
     "name": "stderr",
     "output_type": "stream",
     "text": [
      "Downloading data: 100%|██████████| 93.0M/93.0M [00:07<00:00, 12.4MB/s]\n",
      "Downloading data: 100%|██████████| 87.9M/87.9M [00:07<00:00, 11.0MB/s]\n",
      "Downloading data: 100%|██████████| 92.7M/92.7M [00:07<00:00, 11.8MB/s]\n",
      "Downloading data: 100%|██████████| 100M/100M [00:09<00:00, 10.7MB/s] \n",
      "Downloading data: 100%|██████████| 88.4M/88.4M [00:08<00:00, 10.8MB/s]\n",
      "Downloading data: 100%|██████████| 105M/105M [00:09<00:00, 10.9MB/s] \n",
      "Downloading data: 100%|██████████| 94.7M/94.7M [00:08<00:00, 11.4MB/s]\n",
      "Downloading data: 100%|██████████| 72.1M/72.1M [00:07<00:00, 9.79MB/s]\n",
      "Downloading data: 100%|██████████| 91.7M/91.7M [00:09<00:00, 9.19MB/s]\n",
      "Downloading data: 100%|██████████| 108M/108M [00:08<00:00, 13.2MB/s] \n",
      "Downloading data: 100%|██████████| 104M/104M [00:10<00:00, 9.60MB/s] \n",
      "Downloading data: 100%|██████████| 95.7M/95.7M [00:08<00:00, 11.2MB/s]\n",
      "Downloading data: 100%|██████████| 95.9M/95.9M [00:08<00:00, 11.1MB/s]\n",
      "Downloading data: 100%|██████████| 86.3M/86.3M [00:08<00:00, 10.5MB/s]\n",
      "Downloading data: 100%|██████████| 98.0M/98.0M [00:08<00:00, 11.1MB/s]\n",
      "Downloading data: 100%|██████████| 101M/101M [00:09<00:00, 10.9MB/s] \n",
      "Downloading data: 100%|██████████| 92.7M/92.7M [00:07<00:00, 11.8MB/s]\n",
      "Downloading data: 100%|██████████| 97.1M/97.1M [00:09<00:00, 10.1MB/s]\n",
      "Downloading data: 100%|██████████| 87.9M/87.9M [00:08<00:00, 10.4MB/s]\n",
      "Downloading data: 100%|██████████| 93.0M/93.0M [00:10<00:00, 8.75MB/s]\n",
      "Downloading data: 100%|██████████| 92.3M/92.3M [00:07<00:00, 12.3MB/s]\n",
      "Downloading data: 100%|██████████| 92.1M/92.1M [00:07<00:00, 12.0MB/s]\n",
      "Downloading data: 100%|██████████| 98.8M/98.8M [00:08<00:00, 12.0MB/s]\n",
      "Downloading data: 100%|██████████| 97.0M/97.0M [00:07<00:00, 13.1MB/s]\n",
      "Downloading data: 100%|██████████| 93.6M/93.6M [00:08<00:00, 10.8MB/s]\n",
      "Downloading data: 100%|██████████| 89.6M/89.6M [00:08<00:00, 10.6MB/s]\n",
      "Downloading data: 100%|██████████| 87.8M/87.8M [00:07<00:00, 11.4MB/s]\n",
      "Downloading data: 100%|██████████| 87.1M/87.1M [00:07<00:00, 10.9MB/s]\n",
      "Downloading data: 100%|██████████| 83.2M/83.2M [00:06<00:00, 13.0MB/s]\n",
      "Downloading data: 100%|██████████| 95.6M/95.6M [00:08<00:00, 11.2MB/s]\n",
      "Downloading data: 100%|██████████| 92.9M/92.9M [00:08<00:00, 11.5MB/s]\n",
      "Downloading data: 100%|██████████| 96.4M/96.4M [00:08<00:00, 11.3MB/s]\n",
      "Downloading data: 100%|██████████| 86.2M/86.2M [00:09<00:00, 9.02MB/s]\n",
      "Downloading data: 100%|██████████| 81.8M/81.8M [00:08<00:00, 9.43MB/s]\n",
      "Downloading data: 100%|██████████| 108M/108M [00:09<00:00, 11.9MB/s] \n",
      "Downloading data: 100%|██████████| 115M/115M [00:11<00:00, 9.77MB/s] \n",
      "Downloading data: 100%|██████████| 119M/119M [00:12<00:00, 9.71MB/s] \n",
      "Downloading data: 100%|██████████| 118M/118M [00:09<00:00, 12.4MB/s] \n",
      "Downloading data: 100%|██████████| 116M/116M [00:10<00:00, 11.0MB/s] \n",
      "Downloading data: 100%|██████████| 122M/122M [00:10<00:00, 11.6MB/s] \n",
      "Downloading data: 100%|██████████| 113M/113M [00:08<00:00, 13.6MB/s] \n",
      "Downloading data: 100%|██████████| 117M/117M [00:08<00:00, 13.2MB/s] \n",
      "Downloading data: 100%|██████████| 102M/102M [00:09<00:00, 11.1MB/s] \n",
      "Downloading data: 100%|██████████| 106M/106M [00:07<00:00, 13.9MB/s] \n",
      "Downloading data: 100%|██████████| 103M/103M [00:08<00:00, 12.8MB/s] \n",
      "Downloading data: 100%|██████████| 111M/111M [00:10<00:00, 10.4MB/s] \n",
      "Downloading data: 100%|██████████| 102M/102M [00:08<00:00, 11.7MB/s] \n",
      "Downloading data: 100%|██████████| 106M/106M [00:09<00:00, 10.9MB/s] \n",
      "Downloading data: 100%|██████████| 110M/110M [00:08<00:00, 12.7MB/s] \n",
      "Downloading data: 100%|██████████| 102M/102M [00:16<00:00, 6.05MB/s] \n",
      "Downloading data: 100%|██████████| 108M/108M [00:08<00:00, 12.3MB/s] \n",
      "Downloading data: 100%|██████████| 108M/108M [00:08<00:00, 12.2MB/s] \n",
      "Downloading data: 100%|██████████| 106M/106M [00:11<00:00, 9.08MB/s] \n",
      "Downloading data: 100%|██████████| 111M/111M [00:10<00:00, 10.9MB/s] \n",
      "Downloading data: 100%|██████████| 101M/101M [00:09<00:00, 11.2MB/s] \n",
      "Downloading data: 100%|██████████| 98.8M/98.8M [00:07<00:00, 12.5MB/s]\n",
      "Downloading data: 100%|██████████| 97.0M/97.0M [00:09<00:00, 10.6MB/s]\n",
      "Downloading data: 100%|██████████| 104M/104M [00:10<00:00, 10.3MB/s] \n",
      "Downloading data: 100%|██████████| 91.0M/91.0M [00:08<00:00, 10.6MB/s]\n",
      "Downloading data: 100%|██████████| 103M/103M [00:08<00:00, 11.5MB/s] \n",
      "Downloading data: 100%|██████████| 96.3M/96.3M [00:10<00:00, 9.22MB/s]\n",
      "Downloading data: 100%|██████████| 100M/100M [00:10<00:00, 9.37MB/s] \n",
      "Downloading data: 100%|██████████| 96.6M/96.6M [00:10<00:00, 9.37MB/s]\n",
      "Downloading data: 100%|██████████| 102M/102M [00:08<00:00, 11.9MB/s] \n",
      "Downloading data: 100%|██████████| 102M/102M [00:08<00:00, 11.3MB/s] \n",
      "Downloading data: 100%|██████████| 81.6M/81.6M [00:06<00:00, 11.7MB/s]\n",
      "Downloading data: 100%|██████████| 77.7M/77.7M [00:08<00:00, 8.95MB/s]\n",
      "Downloading data: 100%|██████████| 100M/100M [00:09<00:00, 10.9MB/s] \n",
      "Downloading data: 100%|██████████| 91.7M/91.7M [00:08<00:00, 11.0MB/s]\n",
      "Downloading data: 100%|██████████| 94.4M/94.4M [00:09<00:00, 9.93MB/s]\n",
      "Downloading data: 100%|██████████| 88.7M/88.7M [00:07<00:00, 12.3MB/s]\n",
      "Downloading data: 100%|██████████| 109M/109M [00:10<00:00, 10.7MB/s] \n",
      "Downloading data: 100%|██████████| 105M/105M [00:08<00:00, 11.8MB/s] \n",
      "Downloading data: 100%|██████████| 76.7M/76.7M [00:09<00:00, 7.84MB/s]\n",
      "Downloading data: 100%|██████████| 81.9M/81.9M [00:08<00:00, 10.1MB/s]\n",
      "Downloading data: 100%|██████████| 97.0M/97.0M [00:07<00:00, 12.6MB/s]\n",
      "Downloading data: 100%|██████████| 103M/103M [00:09<00:00, 10.9MB/s] \n",
      "Downloading data: 100%|██████████| 99.7M/99.7M [00:08<00:00, 11.3MB/s]\n",
      "Downloading data: 100%|██████████| 87.0M/87.0M [00:07<00:00, 11.3MB/s]\n",
      "Downloading data: 100%|██████████| 86.6M/86.6M [00:07<00:00, 11.4MB/s]\n",
      "Downloading data: 100%|██████████| 83.3M/83.3M [00:07<00:00, 11.3MB/s]\n",
      "Downloading data: 100%|██████████| 90.9M/90.9M [00:09<00:00, 9.16MB/s]\n",
      "Downloading data: 100%|██████████| 81.7M/81.7M [00:07<00:00, 10.4MB/s]\n",
      "Downloading data: 100%|██████████| 97.9M/97.9M [00:08<00:00, 11.6MB/s]\n",
      "Downloading data: 100%|██████████| 83.7M/83.7M [00:10<00:00, 8.36MB/s]\n",
      "Downloading data: 100%|██████████| 81.0M/81.0M [00:07<00:00, 11.6MB/s]\n"
     ]
    },
    {
     "data": {
      "application/vnd.jupyter.widget-view+json": {
       "model_id": "43b183a10dfc487190eba9ec0c9ab711",
       "version_major": 2,
       "version_minor": 0
      },
      "text/plain": [
       "Generating train split:   0%|          | 0/27154 [00:00<?, ? examples/s]"
      ]
     },
     "metadata": {},
     "output_type": "display_data"
    },
    {
     "data": {
      "application/vnd.jupyter.widget-view+json": {
       "model_id": "dc457a66703246c8aa5a09cf924a8a69",
       "version_major": 2,
       "version_minor": 0
      },
      "text/plain": [
       "Generating validation split:   0%|          | 0/2947 [00:00<?, ? examples/s]"
      ]
     },
     "metadata": {},
     "output_type": "display_data"
    },
    {
     "data": {
      "application/vnd.jupyter.widget-view+json": {
       "model_id": "5c4824fdab424466933b6f5b6cb128af",
       "version_major": 2,
       "version_minor": 0
      },
      "text/plain": [
       "Generating test split:   0%|          | 0/2807 [00:00<?, ? examples/s]"
      ]
     },
     "metadata": {},
     "output_type": "display_data"
    },
    {
     "data": {
      "application/vnd.jupyter.widget-view+json": {
       "model_id": "2f88e3a9a8fa4497af57f0f8e808aee7",
       "version_major": 2,
       "version_minor": 0
      },
      "text/plain": [
       "Loading dataset shards:   0%|          | 0/70 [00:00<?, ?it/s]"
      ]
     },
     "metadata": {},
     "output_type": "display_data"
    },
    {
     "name": "stdout",
     "output_type": "stream",
     "text": [
      "DatasetDict({\n",
      "    train: Dataset({\n",
      "        features: ['waveforms', 'labels', 'nb_speakers'],\n",
      "        num_rows: 27154\n",
      "    })\n",
      "    validation: Dataset({\n",
      "        features: ['waveforms', 'labels', 'nb_speakers'],\n",
      "        num_rows: 2947\n",
      "    })\n",
      "    test: Dataset({\n",
      "        features: ['waveforms', 'labels', 'nb_speakers'],\n",
      "        num_rows: 2807\n",
      "    })\n",
      "})\n"
     ]
    }
   ],
   "source": [
    "dataset_processed = load_dataset('kamilakesbi/ami_spd_nobatch_full')\n",
    "print(dataset_processed)"
   ]
  },
  {
   "cell_type": "code",
   "execution_count": 24,
   "metadata": {},
   "outputs": [],
   "source": [
    "from collections import Counter"
   ]
  },
  {
   "cell_type": "code",
   "execution_count": 27,
   "metadata": {},
   "outputs": [],
   "source": [
    "nb_speakers_in_chunk = [len(list) for list in dataset_processed['test']['nb_speakers']]"
   ]
  },
  {
   "cell_type": "code",
   "execution_count": 28,
   "metadata": {},
   "outputs": [
    {
     "data": {
      "text/plain": [
       "Counter({4: 305, 3: 779, 1: 796, 2: 889, 0: 38})"
      ]
     },
     "execution_count": 28,
     "metadata": {},
     "output_type": "execute_result"
    }
   ],
   "source": [
    "Counter(nb_speakers_in_chunk)"
   ]
  },
  {
   "cell_type": "code",
   "execution_count": null,
   "metadata": {},
   "outputs": [],
   "source": []
  }
 ],
 "metadata": {
  "kernelspec": {
   "display_name": "env",
   "language": "python",
   "name": "python3"
  },
  "language_info": {
   "codemirror_mode": {
    "name": "ipython",
    "version": 3
   },
   "file_extension": ".py",
   "mimetype": "text/x-python",
   "name": "python",
   "nbconvert_exporter": "python",
   "pygments_lexer": "ipython3",
   "version": "3.10.6"
  }
 },
 "nbformat": 4,
 "nbformat_minor": 2
}
